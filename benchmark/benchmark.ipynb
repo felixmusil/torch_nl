{
 "cells": [
  {
   "cell_type": "code",
   "execution_count": 14,
   "metadata": {},
   "outputs": [],
   "source": [
    "import matplotlib.pyplot as plt\n",
    "import torch\n",
    "import ase\n",
    "import numpy as np\n",
    "import scipy\n",
    "from ase.build import molecule, bulk, make_supercell\n",
    "from ase.neighborlist import neighbor_list\n",
    "import pandas as pd\n",
    "from tqdm.notebook import tqdm\n",
    "import seaborn as sns"
   ]
  },
  {
   "cell_type": "code",
   "execution_count": 2,
   "metadata": {},
   "outputs": [],
   "source": [
    "from torch_nl import compute_neighborlist, compute_neighborlist_n2, ase2data\n",
    "from torch_nl.timer import timeit"
   ]
  },
  {
   "cell_type": "markdown",
   "metadata": {},
   "source": [
    "# Periodic systems"
   ]
  },
  {
   "cell_type": "markdown",
   "metadata": {},
   "source": [
    "##  Metal "
   ]
  },
  {
   "cell_type": "code",
   "execution_count": 3,
   "metadata": {},
   "outputs": [],
   "source": [
    "frame = bulk('Si', 'diamond', a=4, cubic=True)\n",
    "aa = torch.arange(1, 6)\n",
    "Ps = torch.cartesian_prod(aa,aa,aa)\n",
    "Ps = Ps[torch.sort(Ps.sum(dim=1)).indices].to(torch.long).numpy()\n",
    "frames = []\n",
    "n_atoms = []\n",
    "for P in Ps:\n",
    "    frames.append(make_supercell(frame, np.diag(P)))\n",
    "    n_atoms.append(len(frames[-1]))\n",
    "n_atoms = np.array(n_atoms)"
   ]
  },
  {
   "cell_type": "code",
   "execution_count": 4,
   "metadata": {},
   "outputs": [],
   "source": [
    "cutoff = 4"
   ]
  },
  {
   "cell_type": "code",
   "execution_count": 5,
   "metadata": {},
   "outputs": [
    {
     "data": {
      "application/json": {
       "ascii": false,
       "bar_format": null,
       "colour": null,
       "elapsed": 0.011367321014404297,
       "initial": 0,
       "n": 0,
       "ncols": null,
       "nrows": 54,
       "postfix": null,
       "prefix": "",
       "rate": null,
       "total": 125,
       "unit": "it",
       "unit_divisor": 1000,
       "unit_scale": false
      },
      "application/vnd.jupyter.widget-view+json": {
       "model_id": "ab749187b35f41579193cdd675218261",
       "version_major": 2,
       "version_minor": 0
      },
      "text/plain": [
       "  0%|          | 0/125 [00:00<?, ?it/s]"
      ]
     },
     "metadata": {},
     "output_type": "display_data"
    }
   ],
   "source": [
    "tag = \"ASE\"\n",
    "datas = []\n",
    "for frame in tqdm(frames):\n",
    "    timing = timeit(neighbor_list, ['ijS', frame, cutoff], tag=tag, warmup=1, nit=50)\n",
    "    data = timing.dumps()\n",
    "    i,j,S = neighbor_list('ijS', frame, cutoff)\n",
    "    n_neighbor = np.bincount(i).mean()\n",
    "    data.update(n_atom=len(frame), n_neighbor_per_atom_avg=int(n_neighbor))\n",
    "    data.pop('samples')\n",
    "    datas.append(data)\n",
    "# df = pd.DataFrame(datas)"
   ]
  },
  {
   "cell_type": "code",
   "execution_count": 6,
   "metadata": {},
   "outputs": [
    {
     "data": {
      "application/json": {
       "ascii": false,
       "bar_format": null,
       "colour": null,
       "elapsed": 0.011538267135620117,
       "initial": 0,
       "n": 0,
       "ncols": null,
       "nrows": 54,
       "postfix": null,
       "prefix": "",
       "rate": null,
       "total": 3,
       "unit": "it",
       "unit_divisor": 1000,
       "unit_scale": false
      },
      "application/vnd.jupyter.widget-view+json": {
       "model_id": "7271363cbf3c488b8f304250ae5e5dae",
       "version_major": 2,
       "version_minor": 0
      },
      "text/plain": [
       "  0%|          | 0/3 [00:00<?, ?it/s]"
      ]
     },
     "metadata": {},
     "output_type": "display_data"
    },
    {
     "data": {
      "application/json": {
       "ascii": false,
       "bar_format": null,
       "colour": null,
       "elapsed": 0.011441469192504883,
       "initial": 0,
       "n": 0,
       "ncols": null,
       "nrows": 54,
       "postfix": null,
       "prefix": "",
       "rate": null,
       "total": 125,
       "unit": "it",
       "unit_divisor": 1000,
       "unit_scale": false
      },
      "application/vnd.jupyter.widget-view+json": {
       "model_id": "64db2e509ee9433589ffa2fe314aec27",
       "version_major": 2,
       "version_minor": 0
      },
      "text/plain": [
       "  0%|          | 0/125 [00:00<?, ?it/s]"
      ]
     },
     "metadata": {},
     "output_type": "display_data"
    },
    {
     "data": {
      "application/json": {
       "ascii": false,
       "bar_format": null,
       "colour": null,
       "elapsed": 0.009797096252441406,
       "initial": 0,
       "n": 0,
       "ncols": null,
       "nrows": 54,
       "postfix": null,
       "prefix": "",
       "rate": null,
       "total": 125,
       "unit": "it",
       "unit_divisor": 1000,
       "unit_scale": false
      },
      "application/vnd.jupyter.widget-view+json": {
       "model_id": "4af8f351b2d54b7e8a59d589d6ee0d79",
       "version_major": 2,
       "version_minor": 0
      },
      "text/plain": [
       "  0%|          | 0/125 [00:00<?, ?it/s]"
      ]
     },
     "metadata": {},
     "output_type": "display_data"
    },
    {
     "data": {
      "application/json": {
       "ascii": false,
       "bar_format": null,
       "colour": null,
       "elapsed": 0.018729209899902344,
       "initial": 0,
       "n": 0,
       "ncols": null,
       "nrows": 54,
       "postfix": null,
       "prefix": "",
       "rate": null,
       "total": 125,
       "unit": "it",
       "unit_divisor": 1000,
       "unit_scale": false
      },
      "application/vnd.jupyter.widget-view+json": {
       "model_id": "a0754679bca646fe9edc4286a67f8004",
       "version_major": 2,
       "version_minor": 0
      },
      "text/plain": [
       "  0%|          | 0/125 [00:00<?, ?it/s]"
      ]
     },
     "metadata": {},
     "output_type": "display_data"
    }
   ],
   "source": [
    "tags = [\n",
    "    # \"torch_nl O(n^2) CPU\", \n",
    "    \"torch_nl O(n^2) GPU\", \n",
    "    \"torch_nl O(n) CPU\", \n",
    "    \"torch_nl O(n) GPU\"\n",
    "]\n",
    "for tag in tqdm(tags):\n",
    "    if \"CPU\" in tag:\n",
    "        device = 'cpu'\n",
    "    elif \"GPU\" in tag:\n",
    "        device = 'cuda'\n",
    "        \n",
    "    if 'O(n^2)' in tag:\n",
    "        nl_func = compute_neighborlist_n2\n",
    "    elif 'O(n)' in tag:\n",
    "        nl_func = compute_neighborlist\n",
    "\n",
    "    for frame in tqdm(frames):\n",
    "        pos, cell, pbc, batch, n_atoms = ase2data([frame], device=device)\n",
    "        timing = timeit(nl_func, [cutoff, pos, cell, pbc, batch], tag=tag, warmup=10, nit=50)\n",
    "        data = timing.dumps()\n",
    "        data.pop('samples')\n",
    "        mapping, mapping_batch, shifts_idx = nl_func(cutoff, pos, cell, pbc, batch)\n",
    "        n_neighbor = np.bincount(mapping[0].cpu().numpy()).mean()\n",
    "        data.update(n_atom=len(frame), n_neighbor_per_atom_avg=int(n_neighbor))\n",
    "        datas.append(data)"
   ]
  },
  {
   "cell_type": "code",
   "execution_count": 7,
   "metadata": {},
   "outputs": [],
   "source": [
    "df = pd.DataFrame(datas)"
   ]
  },
  {
   "cell_type": "code",
   "execution_count": 8,
   "metadata": {},
   "outputs": [
    {
     "data": {
      "text/html": [
       "<div>\n",
       "<style scoped>\n",
       "    .dataframe tbody tr th:only-of-type {\n",
       "        vertical-align: middle;\n",
       "    }\n",
       "\n",
       "    .dataframe tbody tr th {\n",
       "        vertical-align: top;\n",
       "    }\n",
       "\n",
       "    .dataframe thead th {\n",
       "        text-align: right;\n",
       "    }\n",
       "</style>\n",
       "<table border=\"1\" class=\"dataframe\">\n",
       "  <thead>\n",
       "    <tr style=\"text-align: right;\">\n",
       "      <th></th>\n",
       "      <th>tag</th>\n",
       "      <th>mean</th>\n",
       "      <th>stdev</th>\n",
       "      <th>min</th>\n",
       "      <th>max</th>\n",
       "      <th>n_atom</th>\n",
       "      <th>n_neighbor_per_atom_avg</th>\n",
       "    </tr>\n",
       "  </thead>\n",
       "  <tbody>\n",
       "    <tr>\n",
       "      <th>0</th>\n",
       "      <td>ASE</td>\n",
       "      <td>0.002498</td>\n",
       "      <td>0.000041</td>\n",
       "      <td>0.002439</td>\n",
       "      <td>0.002685</td>\n",
       "      <td>8</td>\n",
       "      <td>28</td>\n",
       "    </tr>\n",
       "    <tr>\n",
       "      <th>1</th>\n",
       "      <td>ASE</td>\n",
       "      <td>0.003127</td>\n",
       "      <td>0.000020</td>\n",
       "      <td>0.003101</td>\n",
       "      <td>0.003168</td>\n",
       "      <td>16</td>\n",
       "      <td>28</td>\n",
       "    </tr>\n",
       "    <tr>\n",
       "      <th>2</th>\n",
       "      <td>ASE</td>\n",
       "      <td>0.003162</td>\n",
       "      <td>0.000063</td>\n",
       "      <td>0.003101</td>\n",
       "      <td>0.003374</td>\n",
       "      <td>16</td>\n",
       "      <td>28</td>\n",
       "    </tr>\n",
       "    <tr>\n",
       "      <th>3</th>\n",
       "      <td>ASE</td>\n",
       "      <td>0.003145</td>\n",
       "      <td>0.000043</td>\n",
       "      <td>0.003100</td>\n",
       "      <td>0.003297</td>\n",
       "      <td>16</td>\n",
       "      <td>28</td>\n",
       "    </tr>\n",
       "    <tr>\n",
       "      <th>4</th>\n",
       "      <td>ASE</td>\n",
       "      <td>0.004429</td>\n",
       "      <td>0.000050</td>\n",
       "      <td>0.004374</td>\n",
       "      <td>0.004577</td>\n",
       "      <td>32</td>\n",
       "      <td>28</td>\n",
       "    </tr>\n",
       "    <tr>\n",
       "      <th>...</th>\n",
       "      <td>...</td>\n",
       "      <td>...</td>\n",
       "      <td>...</td>\n",
       "      <td>...</td>\n",
       "      <td>...</td>\n",
       "      <td>...</td>\n",
       "      <td>...</td>\n",
       "    </tr>\n",
       "    <tr>\n",
       "      <th>495</th>\n",
       "      <td>torch_nl O(n) GPU</td>\n",
       "      <td>0.005046</td>\n",
       "      <td>0.000190</td>\n",
       "      <td>0.004930</td>\n",
       "      <td>0.006348</td>\n",
       "      <td>600</td>\n",
       "      <td>29</td>\n",
       "    </tr>\n",
       "    <tr>\n",
       "      <th>496</th>\n",
       "      <td>torch_nl O(n) GPU</td>\n",
       "      <td>0.005924</td>\n",
       "      <td>0.000094</td>\n",
       "      <td>0.005809</td>\n",
       "      <td>0.006476</td>\n",
       "      <td>800</td>\n",
       "      <td>29</td>\n",
       "    </tr>\n",
       "    <tr>\n",
       "      <th>497</th>\n",
       "      <td>torch_nl O(n) GPU</td>\n",
       "      <td>0.005886</td>\n",
       "      <td>0.000038</td>\n",
       "      <td>0.005795</td>\n",
       "      <td>0.005943</td>\n",
       "      <td>800</td>\n",
       "      <td>29</td>\n",
       "    </tr>\n",
       "    <tr>\n",
       "      <th>498</th>\n",
       "      <td>torch_nl O(n) GPU</td>\n",
       "      <td>0.005913</td>\n",
       "      <td>0.000068</td>\n",
       "      <td>0.005803</td>\n",
       "      <td>0.006292</td>\n",
       "      <td>800</td>\n",
       "      <td>29</td>\n",
       "    </tr>\n",
       "    <tr>\n",
       "      <th>499</th>\n",
       "      <td>torch_nl O(n) GPU</td>\n",
       "      <td>0.006839</td>\n",
       "      <td>0.000631</td>\n",
       "      <td>0.006651</td>\n",
       "      <td>0.011249</td>\n",
       "      <td>1000</td>\n",
       "      <td>29</td>\n",
       "    </tr>\n",
       "  </tbody>\n",
       "</table>\n",
       "<p>500 rows × 7 columns</p>\n",
       "</div>"
      ],
      "text/plain": [
       "                   tag      mean     stdev       min       max  n_atom  \\\n",
       "0                  ASE  0.002498  0.000041  0.002439  0.002685       8   \n",
       "1                  ASE  0.003127  0.000020  0.003101  0.003168      16   \n",
       "2                  ASE  0.003162  0.000063  0.003101  0.003374      16   \n",
       "3                  ASE  0.003145  0.000043  0.003100  0.003297      16   \n",
       "4                  ASE  0.004429  0.000050  0.004374  0.004577      32   \n",
       "..                 ...       ...       ...       ...       ...     ...   \n",
       "495  torch_nl O(n) GPU  0.005046  0.000190  0.004930  0.006348     600   \n",
       "496  torch_nl O(n) GPU  0.005924  0.000094  0.005809  0.006476     800   \n",
       "497  torch_nl O(n) GPU  0.005886  0.000038  0.005795  0.005943     800   \n",
       "498  torch_nl O(n) GPU  0.005913  0.000068  0.005803  0.006292     800   \n",
       "499  torch_nl O(n) GPU  0.006839  0.000631  0.006651  0.011249    1000   \n",
       "\n",
       "     n_neighbor_per_atom_avg  \n",
       "0                         28  \n",
       "1                         28  \n",
       "2                         28  \n",
       "3                         28  \n",
       "4                         28  \n",
       "..                       ...  \n",
       "495                       29  \n",
       "496                       29  \n",
       "497                       29  \n",
       "498                       29  \n",
       "499                       29  \n",
       "\n",
       "[500 rows x 7 columns]"
      ]
     },
     "execution_count": 8,
     "metadata": {},
     "output_type": "execute_result"
    }
   ],
   "source": [
    "df"
   ]
  },
  {
   "cell_type": "code",
   "execution_count": 16,
   "metadata": {
    "scrolled": true
   },
   "outputs": [
    {
     "data": {
      "image/png": "[encoded data removed]",
      "text/plain": [
       "<Figure size 714.375x500 with 1 Axes>"
      ]
     },
     "metadata": {},
     "output_type": "display_data"
    }
   ],
   "source": [
    "with sns.plotting_context(\"notebook\"):\n",
    "    plt.title(\"Compute neighborlist: diamond structure\")\n",
    "    sns.lmplot(data=df, x='n_atom', y='mean', hue='tag',fit_reg=False)\n",
    "    plt.xlabel('timing []')\n",
    "    plt.savefig('diamond_benchmark.png', dpi=300, bbox_inches='tight')"
   ]
  },
  {
   "cell_type": "code",
   "execution_count": 15,
   "metadata": {},
   "outputs": [],
   "source": [
    "plt.savefig?"
   ]
  },
  {
   "cell_type": "code",
   "execution_count": null,
   "metadata": {},
   "outputs": [],
   "source": []
  }
 ],
 "metadata": {
  "kernelspec": {
   "display_name": "jax39",
   "language": "python",
   "name": "jax39"
  },
  "language_info": {
   "codemirror_mode": {
    "name": "ipython",
    "version": 3
   },
   "file_extension": ".py",
   "mimetype": "text/x-python",
   "name": "python",
   "nbconvert_exporter": "python",
   "pygments_lexer": "ipython3",
   "version": "3.9.13"
  },
  "toc": {
   "colors": {
    "hover_highlight": "#DAA520",
    "navigate_num": "#000000",
    "navigate_text": "#333333",
    "running_highlight": "#FF0000",
    "selected_highlight": "#FFD700",
    "sidebar_border": "#EEEEEE",
    "wrapper_background": "#FFFFFF"
   },
   "moveMenuLeft": true,
   "nav_menu": {
    "height": "48.9333px",
    "width": "251.8px"
   },
   "navigate_menu": true,
   "number_sections": true,
   "sideBar": true,
   "threshold": 4,
   "toc_cell": false,
   "toc_section_display": "block",
   "toc_window_display": false,
   "widenNotebook": false
  },
  "vscode": {
   "interpreter": {
    "hash": "f79d3df5ff5684964744ab9f5218f96eb946f2b40d3f02d5eb965bb50f364a25"
   }
  }
 },
 "nbformat": 4,
 "nbformat_minor": 2
}
