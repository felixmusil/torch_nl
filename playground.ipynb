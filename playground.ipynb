{
 "cells": [
  {
   "cell_type": "code",
   "execution_count": 88,
   "metadata": {},
   "outputs": [],
   "source": [
    "import torch\n",
    "import ase\n",
    "from ase.io import read, write\n",
    "import numpy as np\n",
    "import scipy\n",
    "from ase.build import molecule, bulk\n",
    "from ase.neighborlist import neighbor_list\n",
    "from typing import Tuple"
   ]
  },
  {
   "cell_type": "code",
   "execution_count": 28,
   "metadata": {},
   "outputs": [],
   "source": [
    "from torch_nl.ase_impl import ase_neighbor_list\n",
    "from torch_nl.torch_impl import compute_images"
   ]
  },
  {
   "cell_type": "code",
   "execution_count": 87,
   "metadata": {},
   "outputs": [],
   "source": [
    "diamond100?"
   ]
  },
  {
   "cell_type": "markdown",
   "metadata": {},
   "source": [
    "# n^2 impl"
   ]
  },
  {
   "cell_type": "markdown",
   "metadata": {},
   "source": [
    "##  test "
   ]
  },
  {
   "cell_type": "code",
   "execution_count": 97,
   "metadata": {},
   "outputs": [],
   "source": [
    "frame = molecule('OCHCHO')\n",
    "frame = bulk('Si', 'diamond', a=6, cubic=True)\n",
    "rcut = 3\n",
    "\n",
    "pos = torch.from_numpy(frame.get_positions())\n",
    "cell = torch.from_numpy(frame.get_cell().array)\n",
    "pbc = torch.from_numpy(frame.get_pbc())"
   ]
  },
  {
   "cell_type": "code",
   "execution_count": 98,
   "metadata": {},
   "outputs": [
    {
     "data": {
      "text/plain": [
       "array([2.59807621, 2.59807621, 2.59807621, 2.59807621, 2.59807621,\n",
       "       2.59807621, 2.59807621, 2.59807621, 2.59807621, 2.59807621,\n",
       "       2.59807621, 2.59807621, 2.59807621, 2.59807621, 2.59807621,\n",
       "       2.59807621, 2.59807621, 2.59807621, 2.59807621, 2.59807621,\n",
       "       2.59807621, 2.59807621, 2.59807621, 2.59807621, 2.59807621,\n",
       "       2.59807621, 2.59807621, 2.59807621, 2.59807621, 2.59807621,\n",
       "       2.59807621, 2.59807621])"
      ]
     },
     "execution_count": 98,
     "metadata": {},
     "output_type": "execute_result"
    }
   ],
   "source": [
    "idx_i, idx_j, idx_S, dist = neighbor_list(\n",
    "        \"ijSd\", frame, cutoff=rcut, self_interaction=False\n",
    "    )\n",
    "np.sort(dist)"
   ]
  },
  {
   "cell_type": "code",
   "execution_count": 99,
   "metadata": {
    "code_folding": [
     5,
     12
    ]
   },
   "outputs": [],
   "source": [
    "def get_fully_connected_mapping(i_ids, j_ids) -> torch.Tensor:\n",
    "    mapping = torch.cartesian_prod(i_ids, j_ids)\n",
    "    mapping = mapping[mapping[:,0] != mapping[:,1], :]\n",
    "    return mapping\n",
    "\n",
    "def compute_images(\n",
    "    positions: torch.Tensor,\n",
    "    cell: torch.Tensor,\n",
    "    pbc: torch.Tensor,\n",
    "    cutoff: float,\n",
    "    batch: torch.Tensor,\n",
    "    n_atoms: torch.Tensor,\n",
    ") -> Tuple[torch.Tensor, torch.Tensor, torch.Tensor, torch.Tensor, torch.Tensor]:\n",
    "    \"\"\"TODO: add doc\"\"\"\n",
    "    cell = cell.view((-1, 3, 3)).to(torch.float64)\n",
    "    pbc = pbc.view((-1, 3))\n",
    "    has_pbc = pbc.prod(dim=1, dtype=bool)\n",
    "    print(has_pbc)\n",
    "    reciprocal_cell = torch.zeros_like(cell)\n",
    "    reciprocal_cell[has_pbc,:,:] = torch.linalg.inv(cell[has_pbc,:,:]).transpose(2, 1)\n",
    "    # print('reciprocal_cell: ', reciprocal_cell.device)\n",
    "    inv_distances = reciprocal_cell.norm(2, dim=-1)\n",
    "    # print('inv_distances: ', inv_distances.device)\n",
    "    num_repeats = torch.ceil(cutoff * inv_distances).to(torch.long)\n",
    "    print(num_repeats)\n",
    "    num_repeats_ = torch.where(pbc, num_repeats, torch.zeros_like(num_repeats))\n",
    "    # print('num_repeats_: ', num_repeats_.device)\n",
    "    ids = torch.arange(positions.shape[0], device=positions.device, dtype=torch.long)\n",
    "    images, mapping, batch_images, shifts_expanded, shifts_idx_ = [], [], [], [], []\n",
    "    for i_structure in range(num_repeats_.shape[0]):\n",
    "        num_repeats = num_repeats_[i_structure]\n",
    "        r1 = torch.arange(\n",
    "            -num_repeats[0],\n",
    "            num_repeats[0] + 1,\n",
    "            device=cell.device,\n",
    "            dtype=torch.long,\n",
    "        )\n",
    "        r2 = torch.arange(\n",
    "            -num_repeats[1],\n",
    "            num_repeats[1] + 1,\n",
    "            device=cell.device,\n",
    "            dtype=torch.long,\n",
    "        )\n",
    "        r3 = torch.arange(\n",
    "            -num_repeats[2],\n",
    "            num_repeats[2] + 1,\n",
    "            device=cell.device,\n",
    "            dtype=torch.long,\n",
    "        )\n",
    "        shifts_idx = torch.cartesian_prod(r1, r2, r3)\n",
    "        shifts = torch.matmul(shifts_idx.to(cell.dtype), cell[i_structure])\n",
    "        pos = positions[batch == i_structure]\n",
    "        i_ids = ids[batch == i_structure]\n",
    "        j_ids = i_ids.repeat(shifts.shape[0])\n",
    "        print(i_ids.shape, j_ids.shape)\n",
    "        s_mapping = get_fully_connected_mapping(i_ids, j_ids)\n",
    "        print(n_atoms[i_structure])\n",
    "        shift_expanded = shifts.repeat(1, n_atoms[i_structure]).view((-1, 3))\n",
    "        pos_expanded = pos.repeat(shifts.shape[0], 1)\n",
    "\n",
    "        images.append(pos_expanded + shift_expanded)\n",
    "        mapping.append(s_mapping)\n",
    "        batch_images.append(\n",
    "            i_structure\n",
    "            * torch.ones(\n",
    "                images[-1].shape[0], dtype=torch.int64, device=cell.device\n",
    "            )\n",
    "        )\n",
    "        shifts_expanded.append(shift_expanded)\n",
    "        shifts_idx_.append(\n",
    "            shifts_idx.repeat(1, n_atoms[i_structure]).view((-1, 3))\n",
    "        )\n",
    "    return (\n",
    "        torch.cat(images, dim=0).to(positions.dtype),\n",
    "        torch.cat(mapping, dim=0).t(),\n",
    "        torch.cat(batch_images, dim=0),\n",
    "        torch.cat(shifts_expanded, dim=0).to(positions.dtype),\n",
    "        torch.cat(shifts_idx_, dim=0),\n",
    "    )"
   ]
  },
  {
   "cell_type": "code",
   "execution_count": 100,
   "metadata": {},
   "outputs": [
    {
     "name": "stdout",
     "output_type": "stream",
     "text": [
      "tensor([True])\n",
      "tensor([[1, 1, 1]])\n",
      "torch.Size([8]) torch.Size([216])\n",
      "tensor(8)\n"
     ]
    }
   ],
   "source": [
    "images, mapping, batch_images, shifts_expanded, shifts_idx_ = compute_images(pos, \n",
    "                                                                             cell, pbc, rcut, \n",
    "                                                                             torch.zeros(pos.shape[0]), \n",
    "                                                                             pos.shape[0]*torch.ones(1, dtype=int))\n",
    "\n",
    "\n",
    "\n",
    "\n",
    "d2 = (pos[mapping[0]] - images[mapping[1]]).square().sum(dim=1)\n",
    "mask = d2 <= rcut*rcut\n",
    "d = d2[mask].sqrt()\n",
    "mapping = mapping[:, mask]"
   ]
  },
  {
   "cell_type": "code",
   "execution_count": 101,
   "metadata": {},
   "outputs": [
    {
     "ename": "ValueError",
     "evalue": "operands could not be broadcast together with shapes (32,) (0,) ",
     "output_type": "error",
     "traceback": [
      "\u001b[0;31m---------------------------------------------------------------------------\u001b[0m",
      "\u001b[0;31mValueError\u001b[0m                                Traceback (most recent call last)",
      "\u001b[0;32m/tmp/ipykernel_3669617/1999235945.py\u001b[0m in \u001b[0;36m<module>\u001b[0;34m\u001b[0m\n\u001b[0;32m----> 1\u001b[0;31m \u001b[0mnp\u001b[0m\u001b[0;34m.\u001b[0m\u001b[0msort\u001b[0m\u001b[0;34m(\u001b[0m\u001b[0mdist\u001b[0m\u001b[0;34m)\u001b[0m \u001b[0;34m-\u001b[0m \u001b[0mnp\u001b[0m\u001b[0;34m.\u001b[0m\u001b[0msort\u001b[0m\u001b[0;34m(\u001b[0m\u001b[0md\u001b[0m\u001b[0;34m.\u001b[0m\u001b[0mnumpy\u001b[0m\u001b[0;34m(\u001b[0m\u001b[0;34m)\u001b[0m\u001b[0;34m)\u001b[0m\u001b[0;34m\u001b[0m\u001b[0;34m\u001b[0m\u001b[0m\n\u001b[0m",
      "\u001b[0;31mValueError\u001b[0m: operands could not be broadcast together with shapes (32,) (0,) "
     ]
    }
   ],
   "source": [
    "np.sort(dist) - np.sort(d.numpy())"
   ]
  },
  {
   "cell_type": "code",
   "execution_count": 106,
   "metadata": {},
   "outputs": [
    {
     "data": {
      "text/plain": [
       "(tensor(24.7500, dtype=torch.float64), 9)"
      ]
     },
     "execution_count": 106,
     "metadata": {},
     "output_type": "execute_result"
    }
   ],
   "source": [
    "d2.min(), rcut*rcut"
   ]
  },
  {
   "cell_type": "code",
   "execution_count": null,
   "metadata": {},
   "outputs": [],
   "source": []
  },
  {
   "cell_type": "code",
   "execution_count": 103,
   "metadata": {},
   "outputs": [
    {
     "data": {
      "text/plain": [
       "((32,), torch.Size([0]), torch.Size([1512]))"
      ]
     },
     "execution_count": 103,
     "metadata": {},
     "output_type": "execute_result"
    }
   ],
   "source": [
    "dist.shape, d.shape, d2.shape"
   ]
  },
  {
   "cell_type": "code",
   "execution_count": 76,
   "metadata": {},
   "outputs": [
    {
     "data": {
      "text/plain": [
       "(torch.Size([2, 30]),\n",
       " torch.Size([6, 3]),\n",
       " tensor([[0, 0, 0, 0, 0, 1, 1, 1, 1, 1, 2, 2, 2, 2, 2, 3, 3, 3, 3, 3, 4, 4, 4, 4,\n",
       "          4, 5, 5, 5, 5, 5],\n",
       "         [1, 2, 3, 4, 5, 0, 2, 3, 4, 5, 0, 1, 3, 4, 5, 0, 1, 2, 4, 5, 0, 1, 2, 3,\n",
       "          5, 0, 1, 2, 3, 4]]))"
      ]
     },
     "execution_count": 76,
     "metadata": {},
     "output_type": "execute_result"
    }
   ],
   "source": [
    "mapping.shape, images.shape, mapping"
   ]
  },
  {
   "cell_type": "code",
   "execution_count": 27,
   "metadata": {},
   "outputs": [
    {
     "data": {
      "text/plain": [
       "tensor([[0, 0],\n",
       "        [1, 1],\n",
       "        [2, 2]])"
      ]
     },
     "execution_count": 27,
     "metadata": {},
     "output_type": "execute_result"
    }
   ],
   "source": [
    "aa = torch.arange(3).reshape(3,1)\n",
    "torch.cat([aa,aa], dim=1)"
   ]
  },
  {
   "cell_type": "code",
   "execution_count": 22,
   "metadata": {},
   "outputs": [],
   "source": [
    "torch.arange?"
   ]
  },
  {
   "cell_type": "code",
   "execution_count": 75,
   "metadata": {},
   "outputs": [
    {
     "data": {
      "text/plain": [
       "tensor([[0, 0, 0, 0, 0, 1, 1, 1, 1, 1, 2, 2, 2, 2, 2, 3, 3, 3, 3, 3, 4, 4, 4, 4,\n",
       "         4, 5, 5, 5, 5, 5],\n",
       "        [1, 2, 3, 4, 5, 0, 2, 3, 4, 5, 0, 1, 3, 4, 5, 0, 1, 2, 4, 5, 0, 1, 2, 3,\n",
       "         5, 0, 1, 2, 3, 4]])"
      ]
     },
     "execution_count": 75,
     "metadata": {},
     "output_type": "execute_result"
    }
   ],
   "source": [
    "mapping"
   ]
  },
  {
   "cell_type": "code",
   "execution_count": null,
   "metadata": {},
   "outputs": [],
   "source": []
  }
 ],
 "metadata": {
  "kernelspec": {
   "display_name": "Python 3 (ipykernel)",
   "language": "python",
   "name": "python3"
  },
  "language_info": {
   "codemirror_mode": {
    "name": "ipython",
    "version": 3
   },
   "file_extension": ".py",
   "mimetype": "text/x-python",
   "name": "python",
   "nbconvert_exporter": "python",
   "pygments_lexer": "ipython3",
   "version": "3.9.7"
  },
  "vscode": {
   "interpreter": {
    "hash": "f79d3df5ff5684964744ab9f5218f96eb946f2b40d3f02d5eb965bb50f364a25"
   }
  }
 },
 "nbformat": 4,
 "nbformat_minor": 2
}
