{
 "cells": [
  {
   "cell_type": "code",
   "execution_count": 7,
   "metadata": {},
   "outputs": [],
   "source": [
    "import torch\n",
    "import ase\n",
    "from ase.io import read, write\n",
    "import numpy as np\n",
    "import scipy\n",
    "from ase.build import molecule\n",
    "from ase.neighborlist import neighbor_list\n"
   ]
  },
  {
   "cell_type": "code",
   "execution_count": 2,
   "metadata": {},
   "outputs": [],
   "source": [
    "from torch_nl.ase_impl import ase_neighbor_list"
   ]
  },
  {
   "cell_type": "code",
   "execution_count": null,
   "metadata": {},
   "outputs": [],
   "source": []
  },
  {
   "cell_type": "markdown",
   "metadata": {},
   "source": [
    "# test n^2 impl"
   ]
  },
  {
   "cell_type": "code",
   "execution_count": 14,
   "metadata": {},
   "outputs": [],
   "source": [
    "frame = molecule('OCHCHO')\n",
    "rcut = 3\n",
    "\n",
    "pos = torch.from_numpy(frame.get_positions())\n",
    "cell = torch.from_numpy(frame.get_positions())\n",
    "pbc = torch.from_numpy(frame.get_pbc())"
   ]
  },
  {
   "cell_type": "code",
   "execution_count": 15,
   "metadata": {},
   "outputs": [
    {
     "data": {
      "text/plain": [
       "array([1.10563938, 1.10563938, 1.10563938, 1.10563938, 1.22295086,\n",
       "       1.22295086, 1.22295086, 1.22295086, 1.51286   , 1.51286   ,\n",
       "       2.05241169, 2.05241169, 2.05241169, 2.05241169, 2.22229623,\n",
       "       2.22229623, 2.22229623, 2.22229623, 2.38769877, 2.38769877,\n",
       "       2.38769877, 2.38769877, 2.61851372, 2.61851372, 2.61851372,\n",
       "       2.61851372])"
      ]
     },
     "execution_count": 15,
     "metadata": {},
     "output_type": "execute_result"
    }
   ],
   "source": [
    "idx_i, idx_j, idx_S, dist = neighbor_list(\n",
    "        \"ijSd\", frame, cutoff=rcut, self_interaction=False\n",
    "    )\n",
    "np.sort(dist)"
   ]
  },
  {
   "cell_type": "code",
   "execution_count": null,
   "metadata": {},
   "outputs": [],
   "source": [
    "def fully_connected2torch(i_ids, j_ids) -> torch.Tensor:\n",
    "    mapping = torch.cartesian_prod(i_ids, j_ids).t()\n",
    "    mapping = mapping[:, mapping[0] != mapping[1]]\n",
    "    return mapping"
   ]
  }
 ],
 "metadata": {
  "kernelspec": {
   "display_name": "Python 3 (ipykernel)",
   "language": "python",
   "name": "python3"
  },
  "language_info": {
   "codemirror_mode": {
    "name": "ipython",
    "version": 3
   },
   "file_extension": ".py",
   "mimetype": "text/x-python",
   "name": "python",
   "nbconvert_exporter": "python",
   "pygments_lexer": "ipython3",
   "version": "3.9.7"
  },
  "vscode": {
   "interpreter": {
    "hash": "f79d3df5ff5684964744ab9f5218f96eb946f2b40d3f02d5eb965bb50f364a25"
   }
  }
 },
 "nbformat": 4,
 "nbformat_minor": 2
}
