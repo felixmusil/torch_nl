{
 "cells": [
  {
   "cell_type": "code",
   "execution_count": 1,
   "metadata": {},
   "outputs": [],
   "source": [
    "import torch\n",
    "import ase\n",
    "from ase.io import read, write\n",
    "import numpy as np\n",
    "import scipy\n",
    "from ase.build import molecule, bulk\n",
    "from ase.neighborlist import neighbor_list\n",
    "from typing import Tuple"
   ]
  },
  {
   "cell_type": "code",
   "execution_count": 2,
   "metadata": {},
   "outputs": [],
   "source": [
    "from torch_nl.ase_impl import ase_neighbor_list\n",
    "from torch_nl.torch_impl import compute_images"
   ]
  },
  {
   "cell_type": "markdown",
   "metadata": {},
   "source": [
    "# n^2 impl"
   ]
  },
  {
   "cell_type": "markdown",
   "metadata": {},
   "source": [
    "##  test "
   ]
  },
  {
   "cell_type": "code",
   "execution_count": 3,
   "metadata": {},
   "outputs": [
    {
     "ename": "NameError",
     "evalue": "name 'frame' is not defined",
     "output_type": "error",
     "traceback": [
      "\u001b[0;31m---------------------------------------------------------------------------\u001b[0m",
      "\u001b[0;31mNameError\u001b[0m                                 Traceback (most recent call last)",
      "\u001b[0;32m/var/folders/z2/1f2prz7n7f501x5pzp84pkj00000gq/T/ipykernel_4340/2972578394.py\u001b[0m in \u001b[0;36m<module>\u001b[0;34m\u001b[0m\n\u001b[1;32m      4\u001b[0m \u001b[0mrcut\u001b[0m \u001b[0;34m=\u001b[0m \u001b[0;36m3\u001b[0m\u001b[0;34m\u001b[0m\u001b[0;34m\u001b[0m\u001b[0m\n\u001b[1;32m      5\u001b[0m \u001b[0;34m\u001b[0m\u001b[0m\n\u001b[0;32m----> 6\u001b[0;31m \u001b[0mpos\u001b[0m \u001b[0;34m=\u001b[0m \u001b[0mtorch\u001b[0m\u001b[0;34m.\u001b[0m\u001b[0mfrom_numpy\u001b[0m\u001b[0;34m(\u001b[0m\u001b[0mframe\u001b[0m\u001b[0;34m.\u001b[0m\u001b[0mget_positions\u001b[0m\u001b[0;34m(\u001b[0m\u001b[0;34m)\u001b[0m\u001b[0;34m)\u001b[0m\u001b[0;34m\u001b[0m\u001b[0;34m\u001b[0m\u001b[0m\n\u001b[0m\u001b[1;32m      7\u001b[0m \u001b[0mcell\u001b[0m \u001b[0;34m=\u001b[0m \u001b[0mtorch\u001b[0m\u001b[0;34m.\u001b[0m\u001b[0mfrom_numpy\u001b[0m\u001b[0;34m(\u001b[0m\u001b[0mframe\u001b[0m\u001b[0;34m.\u001b[0m\u001b[0mget_cell\u001b[0m\u001b[0;34m(\u001b[0m\u001b[0;34m)\u001b[0m\u001b[0;34m.\u001b[0m\u001b[0marray\u001b[0m\u001b[0;34m)\u001b[0m\u001b[0;34m\u001b[0m\u001b[0;34m\u001b[0m\u001b[0m\n\u001b[1;32m      8\u001b[0m \u001b[0mpbc\u001b[0m \u001b[0;34m=\u001b[0m \u001b[0mtorch\u001b[0m\u001b[0;34m.\u001b[0m\u001b[0mfrom_numpy\u001b[0m\u001b[0;34m(\u001b[0m\u001b[0mframe\u001b[0m\u001b[0;34m.\u001b[0m\u001b[0mget_pbc\u001b[0m\u001b[0;34m(\u001b[0m\u001b[0;34m)\u001b[0m\u001b[0;34m)\u001b[0m\u001b[0;34m\u001b[0m\u001b[0;34m\u001b[0m\u001b[0m\n",
      "\u001b[0;31mNameError\u001b[0m: name 'frame' is not defined"
     ]
    }
   ],
   "source": [
    "frames = [molecule('OCHCHO'), molecule('C3H9C')]\n",
    "# frames = [molecule('C3H9C')]\n",
    "# frames = [bulk('Si', 'diamond', a=6, cubic=True)]\n",
    "rcut = 3\n",
    "\n",
    "pos = torch.from_numpy(frame.get_positions())\n",
    "cell = torch.from_numpy(frame.get_cell().array)\n",
    "pbc = torch.from_numpy(frame.get_pbc())\n",
    "n_atoms = [0]\n",
    "pos = []\n",
    "cell = []\n",
    "pbc = []\n",
    "for ff in frames:\n",
    "    n_atoms.append(len(ff))\n",
    "    pos.append(torch.from_numpy(ff.get_positions()))\n",
    "    cell.append(torch.from_numpy(ff.get_cell().array))\n",
    "    pbc.append(torch.from_numpy(ff.get_pbc()))\n",
    "pos = torch.cat(pos)\n",
    "cell = torch.cat(cell)\n",
    "pbc = torch.cat(pbc)\n",
    "stride = torch.from_numpy(np.cumsum(n_atoms))\n",
    "batch = torch.zeros(pos.shape[0],dtype=torch.long)\n",
    "for ii,(st,nd) in enumerate(zip(stride[:-1],stride[1:])):\n",
    "    batch[st:nd] = ii\n",
    "n_atoms = torch.Tensor(n_atoms[1:]).to(dtype=torch.long)\n",
    "batch,n_atoms, pos.shape, cell.shape, pbc.shape"
   ]
  },
  {
   "cell_type": "code",
   "execution_count": 173,
   "metadata": {},
   "outputs": [],
   "source": [
    "dist = []\n",
    "for frame in frames:\n",
    "    idx_i, idx_j, idx_S, dd = neighbor_list(\n",
    "            \"ijSd\", frame, cutoff=rcut, self_interaction=False\n",
    "        )\n",
    "    dist.append(np.sort(dd))"
   ]
  },
  {
   "cell_type": "code",
   "execution_count": 174,
   "metadata": {
    "code_folding": [
     5
    ]
   },
   "outputs": [],
   "source": [
    "def get_fully_connected_mapping(i_ids, j_ids) -> torch.Tensor:\n",
    "    mapping = torch.cartesian_prod(i_ids, j_ids)\n",
    "    mapping = mapping[mapping[:,0] != mapping[:,1], :]\n",
    "    return mapping\n",
    "\n",
    "def compute_images(\n",
    "    positions: torch.Tensor,\n",
    "    cell: torch.Tensor,\n",
    "    pbc: torch.Tensor,\n",
    "    cutoff: float,\n",
    "    batch: torch.Tensor,\n",
    "    n_atoms: torch.Tensor,\n",
    ") -> Tuple[torch.Tensor, torch.Tensor, torch.Tensor, torch.Tensor, torch.Tensor]:\n",
    "    \"\"\"TODO: add doc\"\"\"\n",
    "    cell = cell.view((-1, 3, 3)).to(torch.float64)\n",
    "    pbc = pbc.view((-1, 3))\n",
    "    has_pbc = pbc.prod(dim=1, dtype=bool)\n",
    "    print(has_pbc)\n",
    "    stride = torch.zeros(n_atoms.shape[0]+1,dtype=torch.long)\n",
    "    stride[1:] = torch.cumsum(n_atoms, dim=0,dtype=torch.long)\n",
    "    reciprocal_cell = torch.zeros_like(cell)\n",
    "    reciprocal_cell[has_pbc,:,:] = torch.linalg.inv(cell[has_pbc,:,:]).transpose(2, 1)\n",
    "    # print('reciprocal_cell: ', reciprocal_cell)\n",
    "    inv_distances = reciprocal_cell.norm(2, dim=-1)\n",
    "    # print('inv_distances: ', inv_distances)\n",
    "    num_repeats = torch.ceil(cutoff * inv_distances).to(torch.long)\n",
    "    print(num_repeats)\n",
    "    num_repeats_ = torch.where(pbc, num_repeats, torch.zeros_like(num_repeats))\n",
    "    # print('num_repeats_: ', num_repeats_.device)\n",
    "    ids = torch.arange(positions.shape[0], device=positions.device, dtype=torch.long)\n",
    "    images, mapping, batch_images, shifts_expanded, shifts_idx_ = [], [], [], [], []\n",
    "    for i_structure in range(n_atoms.shape[0]):\n",
    "        num_repeats = num_repeats_[i_structure]\n",
    "        r1 = torch.arange(\n",
    "            -num_repeats[0],\n",
    "            num_repeats[0] + 1,\n",
    "            device=cell.device,\n",
    "            dtype=torch.long,\n",
    "        )\n",
    "        r2 = torch.arange(\n",
    "            -num_repeats[1],\n",
    "            num_repeats[1] + 1,\n",
    "            device=cell.device,\n",
    "            dtype=torch.long,\n",
    "        )\n",
    "        r3 = torch.arange(\n",
    "            -num_repeats[2],\n",
    "            num_repeats[2] + 1,\n",
    "            device=cell.device,\n",
    "            dtype=torch.long,\n",
    "        )\n",
    "        shifts_idx = torch.cartesian_prod(torch.sort(r1)[1], torch.sort(r2)[1], torch.sort(r3)[1])\n",
    "        n_cell_image = shifts_idx.shape[0]\n",
    "        shifts = torch.matmul(shifts_idx.to(cell.dtype), cell[i_structure])\n",
    "        # stnd = slice(stride[i_structure], stride[i_structure+1])\n",
    "        n_atom = n_atoms[i_structure]\n",
    "        pos = positions[stride[i_structure]:stride[i_structure+1]]\n",
    "        i_ids = ids[stride[i_structure]:stride[i_structure+1]]\n",
    "        print(n_atom, n_cell_image)\n",
    "        #ss = n_atom*torch.repeat_interleave(torch.arange(n_cell_image), n_atom) + stride[i_structure]\n",
    "        # ss = torch.arange(n_cell_image*n_atom) + stride[i_structure]\n",
    "        #print(ss)\n",
    "        #j_ids = i_ids.repeat(shifts.shape[0]) + ss\n",
    "        j_ids = torch.arange(n_cell_image*n_atom) + stride[i_structure]\n",
    "        # j_ids += \n",
    "        print(i_ids.shape, j_ids.shape,stride[i_structure])\n",
    "        s_mapping = get_fully_connected_mapping(i_ids, j_ids)\n",
    "        # s_mapping[:,1] += n_atom*torch.repeat_interleave(torch.arange(n_atom), n_cell_image)\n",
    "        print(n_atoms[i_structure])\n",
    "        shift_expanded = shifts.repeat(1, n_atoms[i_structure]).view((-1, 3))\n",
    "        pos_expanded = pos.repeat(shifts.shape[0], 1)\n",
    "\n",
    "        images.append(pos_expanded + shift_expanded)\n",
    "        mapping.append(s_mapping)\n",
    "        batch_images.append(\n",
    "            i_structure\n",
    "            * torch.ones(\n",
    "                images[-1].shape[0], dtype=torch.int64, device=cell.device\n",
    "            )\n",
    "        )\n",
    "        shifts_expanded.append(shift_expanded)\n",
    "        shifts_idx_.append(\n",
    "            shifts_idx.repeat(1, n_atoms[i_structure]).view((-1, 3))\n",
    "        )\n",
    "    return (\n",
    "        torch.cat(images, dim=0).to(positions.dtype),\n",
    "        torch.cat(mapping, dim=0).t(),\n",
    "        torch.cat(batch_images, dim=0),\n",
    "        torch.cat(shifts_expanded, dim=0).to(positions.dtype),\n",
    "        torch.cat(shifts_idx_, dim=0),\n",
    "    )"
   ]
  },
  {
   "cell_type": "code",
   "execution_count": 175,
   "metadata": {
    "scrolled": true
   },
   "outputs": [
    {
     "name": "stdout",
     "output_type": "stream",
     "text": [
      "tensor([False, False])\n",
      "reciprocal_cell:  tensor([[[0., 0., 0.],\n",
      "         [0., 0., 0.],\n",
      "         [0., 0., 0.]],\n",
      "\n",
      "        [[0., 0., 0.],\n",
      "         [0., 0., 0.],\n",
      "         [0., 0., 0.]]], dtype=torch.float64)\n",
      "inv_distances:  tensor([[0., 0., 0.],\n",
      "        [0., 0., 0.]], dtype=torch.float64)\n",
      "tensor([[0, 0, 0],\n",
      "        [0, 0, 0]])\n",
      "tensor(6) 1\n",
      "torch.Size([6]) torch.Size([6]) tensor(0)\n",
      "tensor(6)\n",
      "tensor(13) 1\n",
      "torch.Size([13]) torch.Size([13]) tensor(6)\n",
      "tensor(13)\n"
     ]
    },
    {
     "data": {
      "text/plain": [
       "torch.Size([128])"
      ]
     },
     "execution_count": 175,
     "metadata": {},
     "output_type": "execute_result"
    }
   ],
   "source": [
    "images, mapping, batch_images, shifts_expanded, shifts_idx = compute_images(pos, \n",
    "                                                         cell, pbc, rcut, \n",
    "                                                         batch, \n",
    "                                                         n_atoms)\n",
    "\n",
    "\n",
    "d2 = (pos[mapping[0]] - images[mapping[1]]).square().sum(dim=1)\n",
    "mask = d2 <= rcut*rcut\n",
    "d = d2[mask].sqrt()\n",
    "mapping = mapping[:, mask]\n",
    "mapping_batch = batch_images[mapping[0]]\n",
    "d.shape"
   ]
  },
  {
   "cell_type": "code",
   "execution_count": 139,
   "metadata": {},
   "outputs": [
    {
     "data": {
      "text/plain": [
       "(torch.Size([6, 3]),\n",
       " torch.Size([13, 3]),\n",
       " torch.Size([2, 30]),\n",
       " torch.Size([6, 3]),\n",
       " torch.Size([6, 3]))"
      ]
     },
     "execution_count": 139,
     "metadata": {},
     "output_type": "execute_result"
    }
   ],
   "source": [
    "images.shape, pos.shape, mapping.shape, shifts_expanded.shape, shifts_idx.shape"
   ]
  },
  {
   "cell_type": "code",
   "execution_count": 178,
   "metadata": {
    "scrolled": true
   },
   "outputs": [
    {
     "name": "stdout",
     "output_type": "stream",
     "text": [
      "True\n",
      "True\n"
     ]
    }
   ],
   "source": [
    "for ii, dd in enumerate(dist):\n",
    "    print(np.allclose(np.sort(dd), np.sort(d[mapping_batch == ii].numpy())))"
   ]
  },
  {
   "cell_type": "code",
   "execution_count": 8,
   "metadata": {},
   "outputs": [
    {
     "data": {
      "text/plain": [
       "(tensor(24.7500, dtype=torch.float64), 9)"
      ]
     },
     "execution_count": 8,
     "metadata": {},
     "output_type": "execute_result"
    }
   ],
   "source": [
    "d2.min(), rcut*rcut"
   ]
  },
  {
   "cell_type": "code",
   "execution_count": null,
   "metadata": {},
   "outputs": [],
   "source": []
  },
  {
   "cell_type": "code",
   "execution_count": 103,
   "metadata": {},
   "outputs": [
    {
     "data": {
      "text/plain": [
       "((32,), torch.Size([0]), torch.Size([1512]))"
      ]
     },
     "execution_count": 103,
     "metadata": {},
     "output_type": "execute_result"
    }
   ],
   "source": [
    "dist.shape, d.shape, d2.shape"
   ]
  },
  {
   "cell_type": "code",
   "execution_count": 76,
   "metadata": {},
   "outputs": [
    {
     "data": {
      "text/plain": [
       "(torch.Size([2, 30]),\n",
       " torch.Size([6, 3]),\n",
       " tensor([[0, 0, 0, 0, 0, 1, 1, 1, 1, 1, 2, 2, 2, 2, 2, 3, 3, 3, 3, 3, 4, 4, 4, 4,\n",
       "          4, 5, 5, 5, 5, 5],\n",
       "         [1, 2, 3, 4, 5, 0, 2, 3, 4, 5, 0, 1, 3, 4, 5, 0, 1, 2, 4, 5, 0, 1, 2, 3,\n",
       "          5, 0, 1, 2, 3, 4]]))"
      ]
     },
     "execution_count": 76,
     "metadata": {},
     "output_type": "execute_result"
    }
   ],
   "source": [
    "mapping.shape, images.shape, mapping"
   ]
  },
  {
   "cell_type": "code",
   "execution_count": 27,
   "metadata": {},
   "outputs": [
    {
     "data": {
      "text/plain": [
       "tensor([[0, 0],\n",
       "        [1, 1],\n",
       "        [2, 2]])"
      ]
     },
     "execution_count": 27,
     "metadata": {},
     "output_type": "execute_result"
    }
   ],
   "source": [
    "aa = torch.arange(3).reshape(3,1)\n",
    "torch.cat([aa,aa], dim=1)"
   ]
  },
  {
   "cell_type": "code",
   "execution_count": 22,
   "metadata": {},
   "outputs": [],
   "source": [
    "torch.arange?"
   ]
  },
  {
   "cell_type": "code",
   "execution_count": 75,
   "metadata": {},
   "outputs": [
    {
     "data": {
      "text/plain": [
       "tensor([[0, 0, 0, 0, 0, 1, 1, 1, 1, 1, 2, 2, 2, 2, 2, 3, 3, 3, 3, 3, 4, 4, 4, 4,\n",
       "         4, 5, 5, 5, 5, 5],\n",
       "        [1, 2, 3, 4, 5, 0, 2, 3, 4, 5, 0, 1, 3, 4, 5, 0, 1, 2, 4, 5, 0, 1, 2, 3,\n",
       "         5, 0, 1, 2, 3, 4]])"
      ]
     },
     "execution_count": 75,
     "metadata": {},
     "output_type": "execute_result"
    }
   ],
   "source": [
    "mapping"
   ]
  },
  {
   "cell_type": "code",
   "execution_count": null,
   "metadata": {},
   "outputs": [],
   "source": []
  }
 ],
 "metadata": {
  "kernelspec": {
   "display_name": "cg39",
   "language": "python",
   "name": "cg39"
  },
  "language_info": {
   "codemirror_mode": {
    "name": "ipython",
    "version": 3
   },
   "file_extension": ".py",
   "mimetype": "text/x-python",
   "name": "python",
   "nbconvert_exporter": "python",
   "pygments_lexer": "ipython3",
   "version": "3.9.7"
  },
  "toc": {
   "colors": {
    "hover_highlight": "#DAA520",
    "navigate_num": "#000000",
    "navigate_text": "#333333",
    "running_highlight": "#FF0000",
    "selected_highlight": "#FFD700",
    "sidebar_border": "#EEEEEE",
    "wrapper_background": "#FFFFFF"
   },
   "moveMenuLeft": true,
   "nav_menu": {
    "height": "48.9333px",
    "width": "251.8px"
   },
   "navigate_menu": true,
   "number_sections": true,
   "sideBar": true,
   "threshold": 4,
   "toc_cell": false,
   "toc_section_display": "block",
   "toc_window_display": false,
   "widenNotebook": false
  },
  "vscode": {
   "interpreter": {
    "hash": "f79d3df5ff5684964744ab9f5218f96eb946f2b40d3f02d5eb965bb50f364a25"
   }
  }
 },
 "nbformat": 4,
 "nbformat_minor": 2
}
